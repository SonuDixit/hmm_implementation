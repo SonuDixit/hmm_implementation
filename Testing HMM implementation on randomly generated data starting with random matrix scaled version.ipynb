{
 "cells": [
  {
   "cell_type": "code",
   "execution_count": 12,
   "metadata": {},
   "outputs": [],
   "source": [
    "import pandas as pd\n",
    "import numpy as np\n",
    "from hmm import hmm\n",
    "from matplotlib import pyplot as plt\n",
    "from sklearn.metrics import classification_report\n",
    "np.random.seed(1)"
   ]
  },
  {
   "cell_type": "code",
   "execution_count": 13,
   "metadata": {},
   "outputs": [
    {
     "name": "stdout",
     "output_type": "stream",
     "text": [
      "[0.36666223 0.63333777] [[3.78164892e-04 9.99621835e-01]\n",
      " [6.13798727e-01 3.86201273e-01]] [[0.35023106 0.64976894]\n",
      " [0.42408526 0.57591474]]\n"
     ]
    }
   ],
   "source": [
    "## parameters for random initialisation of hmm\n",
    "rand_pi = np.random.uniform(size=(2,))\n",
    "rand_A = np.random.uniform(size=(2,2))\n",
    "rand_B = np.random.uniform(size=(2,2))\n",
    "rand_pi /= np.sum(rand_pi)\n",
    "rand_A /= (np.sum(rand_A, axis = 1).reshape(-1,1))\n",
    "rand_B /= (np.sum(rand_B, axis = 1).reshape(-1,1))\n",
    "print(rand_pi, rand_A, rand_B)"
   ]
  },
  {
   "cell_type": "code",
   "execution_count": 14,
   "metadata": {},
   "outputs": [],
   "source": [
    "# changing rand_A, because its first row is biased\n",
    "rand_A = np.array([[0.18885828, 0.81114172],\n",
    "        [0.39, 0.61]])"
   ]
  },
  {
   "cell_type": "code",
   "execution_count": 15,
   "metadata": {},
   "outputs": [],
   "source": [
    "pi = np.array([0.5, 0.5])\n",
    "A = np.array([[0.6, 0.4],[0.3, 0.7]])\n",
    "B = np.array([[0.8, 0.2], [0.3, 0.7]])"
   ]
  },
  {
   "cell_type": "code",
   "execution_count": 16,
   "metadata": {},
   "outputs": [],
   "source": [
    "def generate_obs_state(B, state):\n",
    "    '''applicable if only 2 observations are present\n",
    "    '''\n",
    "    max_prob = np.max(B[state])\n",
    "    index = np.argmax(B[state])\n",
    "    new_obs = np.random.binomial(n=1, p = B[state][index])\n",
    "    if new_obs == 1:\n",
    "        return index\n",
    "    else:\n",
    "        return 1-index"
   ]
  },
  {
   "cell_type": "code",
   "execution_count": 17,
   "metadata": {},
   "outputs": [],
   "source": [
    "num_examples = 5\n",
    "seq_len = 4\n",
    "initial_states = []\n",
    "states = []\n",
    "observations = []\n",
    "for i in range(num_examples):\n",
    "    st = []\n",
    "    obs = []\n",
    "    initial_state = np.random.binomial(n= 1, p=pi[0])\n",
    "    initial_states.append(initial_state)\n",
    "    st.append(initial_state)\n",
    "    obs.append(generate_obs_state(B,st[-1]))\n",
    "    \n",
    "    for j in range(seq_len-1):\n",
    "        next_st = generate_obs_state(A, st[-1])\n",
    "        st.append(next_st)\n",
    "        obs.append(generate_obs_state(B,st[-1]))\n",
    "    states.append(st)\n",
    "    observations.append(obs)\n",
    "# print(states)\n",
    "# print(observations)"
   ]
  },
  {
   "cell_type": "code",
   "execution_count": 18,
   "metadata": {},
   "outputs": [
    {
     "name": "stdout",
     "output_type": "stream",
     "text": [
      "[[0, 0, 0, 0], [0, 1, 1, 0], [0, 0, 0, 1], [1, 1, 1, 0], [0, 0, 1, 1]]\n",
      "[[0, 1, 0, 0], [0, 0, 1, 1], [0, 1, 0, 1], [1, 0, 0, 0], [0, 0, 1, 1]]\n"
     ]
    }
   ],
   "source": [
    "print(states)\n",
    "print(observations)"
   ]
  },
  {
   "cell_type": "code",
   "execution_count": 19,
   "metadata": {},
   "outputs": [],
   "source": [
    "num_examples = 5\n",
    "seq_len = 7\n",
    "for i in range(num_examples):\n",
    "    st = []\n",
    "    obs = []\n",
    "    initial_state = np.random.binomial(n= 1, p=pi[0])\n",
    "    initial_states.append(initial_state)\n",
    "    st.append(initial_state)\n",
    "    obs.append(generate_obs_state(B,st[-1]))\n",
    "    for j in range(seq_len):\n",
    "        next_st = generate_obs_state(A, st[-1])\n",
    "        st.append(next_st)\n",
    "        obs.append(generate_obs_state(B,st[-1]))\n",
    "    states.append(st)\n",
    "    observations.append(obs)"
   ]
  },
  {
   "cell_type": "code",
   "execution_count": 20,
   "metadata": {},
   "outputs": [
    {
     "name": "stdout",
     "output_type": "stream",
     "text": [
      "[[0, 0, 0, 0], [0, 1, 1, 0], [0, 0, 0, 1], [1, 1, 1, 0], [0, 0, 1, 1], [0, 0, 0, 0, 0, 0, 1, 1], [1, 0, 1, 1, 1, 0, 1, 0], [1, 1, 1, 1, 1, 1, 1, 0], [0, 0, 1, 0, 0, 1, 1, 0], [0, 1, 0, 0, 0, 1, 1, 1]]\n",
      "..\n",
      "[[0, 1, 0, 0], [0, 0, 1, 1], [0, 1, 0, 1], [1, 0, 0, 0], [0, 0, 1, 1], [0, 0, 0, 0, 0, 0, 1, 1], [1, 0, 1, 0, 1, 0, 0, 0], [1, 0, 0, 1, 0, 1, 1, 0], [0, 0, 1, 0, 1, 0, 1, 0], [0, 0, 0, 0, 0, 1, 0, 1]]\n"
     ]
    }
   ],
   "source": [
    "print(states)\n",
    "print('..')\n",
    "print(observations)"
   ]
  },
  {
   "cell_type": "code",
   "execution_count": 21,
   "metadata": {},
   "outputs": [],
   "source": [
    "observations = [np.asarray(i) for i in observations]\n",
    "states = [np.asarray(i) for i in states]"
   ]
  },
  {
   "cell_type": "code",
   "execution_count": 22,
   "metadata": {},
   "outputs": [],
   "source": [
    "# random initialisation of params\n",
    "from hmm import hmm_scale\n",
    "hm2 = hmm_scale(num_states=2, num_obs= 2, A = rand_A, B = rand_B, pie = rand_pi)"
   ]
  },
  {
   "cell_type": "code",
   "execution_count": 23,
   "metadata": {},
   "outputs": [
    {
     "name": "stdout",
     "output_type": "stream",
     "text": [
      "pi:  [0.36666223 0.63333777]\n",
      "state transition matrix: \n",
      " [[0.18885828 0.81114172]\n",
      " [0.39       0.61      ]]\n",
      "emission probability matrix: \n",
      " [[0.35023106 0.64976894]\n",
      " [0.42408526 0.57591474]]\n"
     ]
    }
   ],
   "source": [
    "print('pi: ',hm2.pie)\n",
    "print('state transition matrix: \\n',hm2.A)\n",
    "print('emission probability matrix: \\n',hm2.B)"
   ]
  },
  {
   "cell_type": "code",
   "execution_count": 24,
   "metadata": {},
   "outputs": [
    {
     "name": "stdout",
     "output_type": "stream",
     "text": [
      "              precision    recall  f1-score   support\n",
      "\n",
      "           0       0.00      0.00      0.00        31\n",
      "           1       0.48      1.00      0.65        29\n",
      "\n",
      "    accuracy                           0.48        60\n",
      "   macro avg       0.24      0.50      0.33        60\n",
      "weighted avg       0.23      0.48      0.31        60\n",
      "\n"
     ]
    },
    {
     "name": "stderr",
     "output_type": "stream",
     "text": [
      "/Users/sonud/anaconda3/lib/python3.7/site-packages/sklearn/metrics/classification.py:1437: UndefinedMetricWarning: Precision and F-score are ill-defined and being set to 0.0 in labels with no predicted samples.\n",
      "  'precision', 'predicted', average, warn_for)\n"
     ]
    }
   ],
   "source": [
    "labels = []\n",
    "for i in observations:\n",
    "    _,l,_ = hm2.viterbiAlgorithm(i)\n",
    "    labels.append(l)\n",
    "states_l = [j for i in states for j in i ]\n",
    "labels_l = [j for i in labels for j in i ]\n",
    "print(classification_report(states_l, labels_l))"
   ]
  },
  {
   "cell_type": "code",
   "execution_count": 25,
   "metadata": {},
   "outputs": [],
   "source": [
    "# states, labels, observations"
   ]
  },
  {
   "cell_type": "code",
   "execution_count": 26,
   "metadata": {},
   "outputs": [
    {
     "name": "stdout",
     "output_type": "stream",
     "text": [
      "prob_of_obs is 0.03810113099610439\n",
      "prob_of_obs is 0.05716799058417256\n",
      "prob_of_obs is 0.05728792505643635\n",
      "prob_of_obs is 0.03860240625808309\n",
      "prob_of_obs is 0.05716799058417256\n",
      "prob_of_obs is 0.0014571839450737698\n",
      "prob_of_obs is 0.0022361074830703465\n",
      "prob_of_obs is 0.0033480155215774143\n",
      "prob_of_obs is 0.0022126114497776285\n",
      "prob_of_obs is 0.001463806310093814\n",
      "prob_of_obs is 0.09280087297204305\n",
      "prob_of_obs is 0.05359602909237587\n",
      "prob_of_obs is 0.05375863138636876\n",
      "prob_of_obs is 0.09398622353720223\n",
      "prob_of_obs is 0.05359602909237587\n",
      "prob_of_obs is 0.008623459530458233\n",
      "prob_of_obs is 0.005094578129588012\n",
      "prob_of_obs is 0.002934060024987368\n",
      "prob_of_obs is 0.005041970329752573\n",
      "prob_of_obs is 0.008670257703653057\n",
      "prob_of_obs is 0.09283542590988801\n",
      "prob_of_obs is 0.05358592336205031\n",
      "prob_of_obs is 0.053799902089229724\n",
      "prob_of_obs is 0.09396221923818568\n",
      "prob_of_obs is 0.05358592336205031\n",
      "prob_of_obs is 0.008618841516574818\n",
      "prob_of_obs is 0.005097773943413207\n",
      "prob_of_obs is 0.0029345590056120098\n",
      "prob_of_obs is 0.005048110106070277\n",
      "prob_of_obs is 0.008672965919583976\n",
      "prob_of_obs is 0.09287943825194515\n",
      "prob_of_obs is 0.05357574206177919\n",
      "prob_of_obs is 0.05385314357608183\n",
      "prob_of_obs is 0.09392647023078811\n",
      "prob_of_obs is 0.05357574206177919\n",
      "prob_of_obs is 0.008613170054144605\n",
      "prob_of_obs is 0.005101358771344237\n",
      "prob_of_obs is 0.0029351070256923646\n",
      "prob_of_obs is 0.0050556658008480875\n",
      "prob_of_obs is 0.00867616384400212\n",
      "prob_of_obs is 0.09293655518050885\n",
      "prob_of_obs is 0.05356478263084623\n",
      "prob_of_obs is 0.053920731098494365\n",
      "prob_of_obs is 0.09387689430349841\n",
      "prob_of_obs is 0.05356478263084623\n",
      "prob_of_obs is 0.008606403612598153\n",
      "prob_of_obs is 0.00510539880983883\n",
      "prob_of_obs is 0.0029356233953974835\n",
      "prob_of_obs is 0.005064984503212653\n",
      "prob_of_obs is 0.008680187910171925\n",
      "prob_of_obs is 0.09301019760330514\n",
      "prob_of_obs is 0.05355283751023167\n",
      "prob_of_obs is 0.05400640577186367\n",
      "prob_of_obs is 0.0938098458129457\n",
      "prob_of_obs is 0.05355283751023167\n",
      "prob_of_obs is 0.008598270917059532\n",
      "prob_of_obs is 0.005109997353469627\n",
      "prob_of_obs is 0.002936090637019974\n",
      "prob_of_obs is 0.00507651867104951\n",
      "prob_of_obs is 0.00868525038650014\n",
      "prob_of_obs is 0.09310463164351944\n",
      "prob_of_obs is 0.05353954331374503\n",
      "prob_of_obs is 0.0541149013524214\n",
      "prob_of_obs is 0.0937209039620164\n",
      "prob_of_obs is 0.05353954331374503\n",
      "prob_of_obs is 0.008588415641291137\n",
      "prob_of_obs is 0.0051153017766736655\n",
      "prob_of_obs is 0.002936490241939288\n",
      "prob_of_obs is 0.005090850322211468\n",
      "prob_of_obs is 0.008691619495554517\n",
      "prob_of_obs is 0.0932251835940387\n",
      "prob_of_obs is 0.053524289743001205\n",
      "prob_of_obs is 0.05425223465814694\n",
      "prob_of_obs is 0.09360473821269076\n",
      "prob_of_obs is 0.053524289743001205\n",
      "prob_of_obs is 0.008576365518103013\n",
      "prob_of_obs is 0.005121524607411749\n",
      "prob_of_obs is 0.0029368041242717677\n",
      "prob_of_obs is 0.005108733966804842\n",
      "prob_of_obs is 0.008699635621053666\n",
      "prob_of_obs is 0.0933785107099631\n",
      "prob_of_obs is 0.05350608051706091\n",
      "prob_of_obs is 0.054426092151504256\n",
      "prob_of_obs is 0.09345496761947743\n",
      "prob_of_obs is 0.05350608051706091\n",
      "prob_of_obs is 0.008561489044239473\n",
      "prob_of_obs is 0.005128975003253426\n",
      "prob_of_obs is 0.002937017184403503\n",
      "prob_of_obs is 0.005131156149492385\n",
      "prob_of_obs is 0.008709732752025783\n",
      "prob_of_obs is 0.09357294141310517\n",
      "prob_of_obs is 0.05348332216443294\n",
      "prob_of_obs is 0.054646348512338176\n",
      "prob_of_obs is 0.09326402672050435\n",
      "prob_of_obs is 0.05348332216443294\n",
      "prob_of_obs is 0.008542934576333323\n",
      "prob_of_obs is 0.005138105873712402\n",
      "prob_of_obs is 0.0029371215462781243\n",
      "prob_of_obs is 0.005159418988757101\n",
      "prob_of_obs is 0.008722467024545273\n",
      "prob_of_obs is 0.09381889991115737\n",
      "prob_of_obs is 0.05345350509235718\n",
      "prob_of_obs is 0.05492576713353483\n",
      "prob_of_obs is 0.09302306130220432\n",
      "prob_of_obs is 0.05345350509235718\n",
      "prob_of_obs is 0.008519544542485531\n",
      "prob_of_obs is 0.005149584545525314\n",
      "prob_of_obs is 0.002937123242922196\n",
      "prob_of_obs is 0.005195258712056584\n",
      "prob_of_obs is 0.008738554854047155\n",
      "prob_of_obs is 0.09412942924593491\n",
      "prob_of_obs is 0.053412725418633226\n",
      "prob_of_obs is 0.05528095112745765\n",
      "prob_of_obs is 0.09272189471004355\n",
      "prob_of_obs is 0.053412725418633226\n",
      "prob_of_obs is 0.008489734901950917\n",
      "prob_of_obs is 0.005164398778717065\n",
      "prob_of_obs is 0.0029370523400721283\n",
      "prob_of_obs is 0.005241015569517809\n",
      "prob_of_obs is 0.008758923880280035\n",
      "prob_of_obs is 0.09452081937861757\n",
      "prob_of_obs is 0.053354975328592034\n",
      "prob_of_obs is 0.055733635868469585\n",
      "prob_of_obs is 0.09234913293542737\n",
      "prob_of_obs is 0.053354975328592034\n",
      "prob_of_obs is 0.008451327220087472\n",
      "prob_of_obs is 0.005184015525671671\n",
      "prob_of_obs is 0.0029369776049231336\n",
      "prob_of_obs is 0.005299879324683248\n",
      "prob_of_obs is 0.008784780543036889\n",
      "prob_of_obs is 0.0950133244112765\n",
      "prob_of_obs is 0.05327110644216325\n",
      "prob_of_obs is 0.056312434842856196\n",
      "prob_of_obs is 0.09189251932304016\n",
      "prob_of_obs is 0.05327110644216325\n",
      "prob_of_obs is 0.008401319059444355\n",
      "prob_of_obs is 0.0052106173014942825\n",
      "prob_of_obs is 0.0029370265829985792\n",
      "prob_of_obs is 0.005376245218894865\n",
      "prob_of_obs is 0.008817697885746819\n",
      "prob_of_obs is 0.09563189730940326\n",
      "prob_of_obs is 0.05314735433811259\n",
      "prob_of_obs is 0.05705515147837258\n",
      "prob_of_obs is 0.0913397129775187\n",
      "prob_of_obs is 0.05314735433811259\n",
      "prob_of_obs is 0.008335581302523607\n",
      "prob_of_obs is 0.005247449691418254\n",
      "prob_of_obs is 0.0029374107586123523\n",
      "prob_of_obs is 0.0054762280572759146\n",
      "prob_of_obs is 0.00885972437839029\n"
     ]
    },
    {
     "data": {
      "text/plain": [
       "Text(0, 0.5, 'log prob of examples')"
      ]
     },
     "execution_count": 26,
     "metadata": {},
     "output_type": "execute_result"
    },
    {
     "data": {
      "image/png": "[encoded data removed]",
      "text/plain": [
       "<Figure size 432x288 with 1 Axes>"
      ]
     },
     "metadata": {
      "needs_background": "light"
     },
     "output_type": "display_data"
    }
   ],
   "source": [
    "log_prob = []\n",
    "for i in range(15):\n",
    "    log_prob_of_examples = hm2.train_on_examples(observations= observations, verbose = False)\n",
    "    log_prob.append(log_prob_of_examples)\n",
    "plt.plot(log_prob)\n",
    "plt.ylabel('log prob of examples')"
   ]
  },
  {
   "cell_type": "code",
   "execution_count": 27,
   "metadata": {},
   "outputs": [
    {
     "name": "stdout",
     "output_type": "stream",
     "text": [
      "pi:  [0.30115671 0.69884329]\n",
      "state transition matrix: \n",
      " [[0.15219384 0.84780616]\n",
      " [0.41635755 0.58364245]]\n",
      "emission probability matrix: \n",
      " [[0.46608161 0.53391839]\n",
      " [0.71433652 0.28566348]]\n"
     ]
    }
   ],
   "source": [
    "print('pi: ',hm2.pie)\n",
    "print('state transition matrix: \\n',hm2.A)\n",
    "print('emission probability matrix: \\n',hm2.B)"
   ]
  },
  {
   "cell_type": "code",
   "execution_count": 28,
   "metadata": {},
   "outputs": [
    {
     "data": {
      "text/plain": [
       "-39.27456953430538"
      ]
     },
     "execution_count": 28,
     "metadata": {},
     "output_type": "execute_result"
    }
   ],
   "source": [
    "log_prob_of_examples"
   ]
  },
  {
   "cell_type": "code",
   "execution_count": 29,
   "metadata": {},
   "outputs": [
    {
     "data": {
      "text/plain": [
       "(array([0.30115671, 0.69884329]), array([[0.15219384, 0.84780616],\n",
       "        [0.41635755, 0.58364245]]), array([[0.46608161, 0.53391839],\n",
       "        [0.71433652, 0.28566348]]))"
      ]
     },
     "execution_count": 29,
     "metadata": {},
     "output_type": "execute_result"
    }
   ],
   "source": [
    "hm2.pie, hm2.A, hm2.B"
   ]
  },
  {
   "cell_type": "code",
   "execution_count": 30,
   "metadata": {},
   "outputs": [
    {
     "name": "stdout",
     "output_type": "stream",
     "text": [
      "              precision    recall  f1-score   support\n",
      "\n",
      "           0       0.17      0.10      0.12        31\n",
      "           1       0.33      0.48      0.39        29\n",
      "\n",
      "    accuracy                           0.28        60\n",
      "   macro avg       0.25      0.29      0.26        60\n",
      "weighted avg       0.25      0.28      0.25        60\n",
      "\n"
     ]
    }
   ],
   "source": [
    "labels = []\n",
    "for i in observations:\n",
    "    _,l,_ = hm2.viterbiAlgorithm(i)\n",
    "    labels.append(l)\n",
    "states_l = [j for i in states for j in i ]\n",
    "labels_l = [j for i in labels for j in i ]\n",
    "print(classification_report(states_l, labels_l))"
   ]
  },
  {
   "cell_type": "code",
   "execution_count": 32,
   "metadata": {},
   "outputs": [
    {
     "name": "stdout",
     "output_type": "stream",
     "text": [
      "prob_of_obs is 0.10384181732813148\n",
      "prob_of_obs is 0.049693397267222564\n",
      "prob_of_obs is 0.06886209915022204\n",
      "prob_of_obs is 0.08592750387657477\n",
      "prob_of_obs is 0.049693397267222564\n",
      "prob_of_obs is 0.007169692482954598\n",
      "prob_of_obs is 0.006152149816888913\n",
      "prob_of_obs is 0.0029701744584128857\n",
      "prob_of_obs is 0.00735160337462059\n",
      "prob_of_obs is 0.009488644792411776\n",
      "prob_of_obs is 0.10611642370916143\n",
      "prob_of_obs is 0.048176897521682714\n",
      "prob_of_obs is 0.07288177347804879\n",
      "prob_of_obs is 0.0849609322027507\n",
      "prob_of_obs is 0.048176897521682714\n",
      "prob_of_obs is 0.006761951879567883\n",
      "prob_of_obs is 0.0065604923485109235\n",
      "prob_of_obs is 0.0029822809352189968\n",
      "prob_of_obs is 0.008099133618068344\n",
      "prob_of_obs is 0.009681456527160816\n",
      "prob_of_obs is 0.10848230666088694\n",
      "prob_of_obs is 0.04632170536655256\n",
      "prob_of_obs is 0.07750785344956687\n",
      "prob_of_obs is 0.08418249218502831\n",
      "prob_of_obs is 0.04632170536655256\n",
      "prob_of_obs is 0.0062998462031967585\n",
      "prob_of_obs is 0.007082258313263835\n",
      "prob_of_obs is 0.0029930617570948833\n",
      "prob_of_obs is 0.009022875555798804\n",
      "prob_of_obs is 0.00988795595098797\n",
      "prob_of_obs is 0.1107393089528249\n",
      "prob_of_obs is 0.044235799148899184\n",
      "prob_of_obs is 0.08245929716369366\n",
      "prob_of_obs is 0.08367644203212196\n",
      "prob_of_obs is 0.044235799148899184\n",
      "prob_of_obs is 0.005817197439942999\n",
      "prob_of_obs is 0.007702637168741232\n",
      "prob_of_obs is 0.002999728123814603\n",
      "prob_of_obs is 0.010086869521917022\n",
      "prob_of_obs is 0.01009022336336401\n",
      "prob_of_obs is 0.11267977595704237\n",
      "prob_of_obs is 0.04210600251398433\n",
      "prob_of_obs is 0.08731004120314631\n",
      "prob_of_obs is 0.08347398618179788\n",
      "prob_of_obs is 0.04210600251398433\n",
      "prob_of_obs is 0.005357775869709808\n",
      "prob_of_obs is 0.00837834474812403\n",
      "prob_of_obs is 0.003000543216697896\n",
      "prob_of_obs is 0.011207562494800715\n",
      "prob_of_obs is 0.010269682128945091\n",
      "prob_of_obs is 0.11416647895731591\n",
      "prob_of_obs is 0.04013758184908942\n",
      "prob_of_obs is 0.09162863790058728\n",
      "prob_of_obs is 0.08353833356920212\n",
      "prob_of_obs is 0.04013758184908942\n",
      "prob_of_obs is 0.004959886150796506\n",
      "prob_of_obs is 0.009047329035217358\n",
      "prob_of_obs is 0.0029958515659900555\n",
      "prob_of_obs is 0.01227602036654424\n",
      "prob_of_obs is 0.010414747424639242\n",
      "prob_of_obs is 0.1151748882072736\n",
      "prob_of_obs is 0.03847913353331192\n",
      "prob_of_obs is 0.09513711545180459\n",
      "prob_of_obs is 0.0837852884347762\n",
      "prob_of_obs is 0.03847913353331192\n",
      "prob_of_obs is 0.004643816128245585\n",
      "prob_of_obs is 0.009651300636704675\n",
      "prob_of_obs is 0.0029876692252299537\n",
      "prob_of_obs is 0.01319987686951041\n",
      "prob_of_obs is 0.010524081220542708\n",
      "prob_of_obs is 0.11577242012343575\n",
      "prob_of_obs is 0.03718547761001042\n",
      "prob_of_obs is 0.09777408567064134\n",
      "prob_of_obs is 0.08412329423204369\n",
      "prob_of_obs is 0.03718547761001042\n",
      "prob_of_obs is 0.004410133731345555\n",
      "prob_of_obs is 0.010155444765460998\n",
      "prob_of_obs is 0.00297829278920286\n",
      "prob_of_obs is 0.013933889715673397\n",
      "prob_of_obs is 0.010603706403378097\n",
      "prob_of_obs is 0.11606473978894466\n",
      "prob_of_obs is 0.03623222938382861\n",
      "prob_of_obs is 0.09964307476415338\n",
      "prob_of_obs is 0.08448360212684758\n",
      "prob_of_obs is 0.03623222938382861\n",
      "prob_of_obs is 0.004246603871214659\n",
      "prob_of_obs is 0.01055286845988624\n",
      "prob_of_obs is 0.0029692454005780214\n",
      "prob_of_obs is 0.014480557577193773\n",
      "prob_of_obs is 0.010661958811695649\n",
      "prob_of_obs is 0.11615197505784079\n",
      "prob_of_obs is 0.03555444039142674\n",
      "prob_of_obs is 0.10091786274418385\n",
      "prob_of_obs is 0.08482825797060208\n",
      "prob_of_obs is 0.03555444039142674\n",
      "prob_of_obs is 0.004136578661307509\n",
      "prob_of_obs is 0.01085614294105057\n",
      "prob_of_obs is 0.00296111274219068\n",
      "prob_of_obs is 0.014870838904257179\n",
      "prob_of_obs is 0.010706147317044166\n",
      "prob_of_obs is 0.11611001308176495\n",
      "prob_of_obs is 0.03507978158233522\n",
      "prob_of_obs is 0.10177070192171657\n",
      "prob_of_obs is 0.08514329072392354\n",
      "prob_of_obs is 0.03507978158233522\n",
      "prob_of_obs is 0.004064479145385907\n",
      "prob_of_obs is 0.011085815942293336\n",
      "prob_of_obs is 0.00295388701463392\n",
      "prob_of_obs is 0.015143876665582933\n",
      "prob_of_obs is 0.010741531751969204\n",
      "prob_of_obs is 0.11598953292384055\n",
      "prob_of_obs is 0.03474604817498207\n",
      "prob_of_obs is 0.10233998872524014\n",
      "prob_of_obs is 0.08542840260111839\n",
      "prob_of_obs is 0.03474604817498207\n",
      "prob_of_obs is 0.004017991441368061\n",
      "prob_of_obs is 0.011262379384342642\n",
      "prob_of_obs is 0.002947333266598471\n",
      "prob_of_obs is 0.015334971798259224\n",
      "prob_of_obs is 0.010771543637077528\n",
      "prob_of_obs is 0.11582188638700847\n",
      "prob_of_obs is 0.03450626678763351\n",
      "prob_of_obs is 0.10272501985796502\n",
      "prob_of_obs is 0.08568908242170487\n",
      "prob_of_obs is 0.03450626678763351\n",
      "prob_of_obs is 0.003988258381928247\n",
      "prob_of_obs is 0.011402664654688012\n",
      "prob_of_obs is 0.0029411977684950215\n",
      "prob_of_obs is 0.015471360978238289\n",
      "prob_of_obs is 0.010798320936516444\n",
      "prob_of_obs is 0.11562556359242847\n",
      "prob_of_obs is 0.03432753795867237\n",
      "prob_of_obs is 0.10299244194308738\n",
      "prob_of_obs is 0.08593213999324406\n",
      "prob_of_obs is 0.03432753795867237\n",
      "prob_of_obs is 0.0039692608141097705\n",
      "prob_of_obs is 0.011519133552401865\n",
      "prob_of_obs is 0.0029352829852490572\n",
      "prob_of_obs is 0.015572306713907276\n",
      "prob_of_obs is 0.010823171110077464\n",
      "prob_of_obs is 0.11541113519119867\n",
      "prob_of_obs is 0.034187860510244\n",
      "prob_of_obs is 0.10318519598733292\n",
      "prob_of_obs is 0.08616371701593256\n",
      "prob_of_obs is 0.034187860510244\n",
      "prob_of_obs is 0.003957050737704481\n",
      "prob_of_obs is 0.011620461760217846\n",
      "prob_of_obs is 0.0029294556969114297\n",
      "prob_of_obs is 0.0156507417114056\n",
      "prob_of_obs is 0.010846889063965824\n"
     ]
    },
    {
     "data": {
      "text/plain": [
       "Text(0, 0.5, 'log prob of examples')"
      ]
     },
     "execution_count": 32,
     "metadata": {},
     "output_type": "execute_result"
    },
    {
     "data": {
      "image/png": "[encoded data removed]",
      "text/plain": [
       "<Figure size 432x288 with 1 Axes>"
      ]
     },
     "metadata": {
      "needs_background": "light"
     },
     "output_type": "display_data"
    }
   ],
   "source": [
    "log_prob = []\n",
    "for i in range(15):\n",
    "    log_prob_of_examples = hm2.train_on_examples(observations= observations, verbose = False)\n",
    "    log_prob.append(log_prob_of_examples)\n",
    "plt.plot(log_prob)\n",
    "plt.ylabel('log prob of examples')"
   ]
  },
  {
   "cell_type": "code",
   "execution_count": 33,
   "metadata": {},
   "outputs": [
    {
     "name": "stdout",
     "output_type": "stream",
     "text": [
      "[0.38028887 0.61971113] [[0.07293152 0.92706848]\n",
      " [0.59833785 0.40166215]] [[0.27155884 0.72844116]\n",
      " [0.86690506 0.13309494]]\n",
      "              precision    recall  f1-score   support\n",
      "\n",
      "           0       0.25      0.19      0.22        31\n",
      "           1       0.31      0.38      0.34        29\n",
      "\n",
      "    accuracy                           0.28        60\n",
      "   macro avg       0.28      0.29      0.28        60\n",
      "weighted avg       0.28      0.28      0.28        60\n",
      "\n"
     ]
    }
   ],
   "source": [
    "print(hm2.pie, hm2.A, hm2.B)\n",
    "\n",
    "labels = []\n",
    "for i in observations:\n",
    "    _,l,_ = hm2.viterbiAlgorithm(i)\n",
    "    labels.append(l)\n",
    "states_l = [j for i in states for j in i ]\n",
    "labels_l = [j for i in labels for j in i ]\n",
    "print(classification_report(states_l, labels_l))"
   ]
  },
  {
   "cell_type": "code",
   "execution_count": null,
   "metadata": {},
   "outputs": [],
   "source": []
  }
 ],
 "metadata": {
  "kernelspec": {
   "display_name": "Python 3",
   "language": "python",
   "name": "python3"
  },
  "language_info": {
   "codemirror_mode": {
    "name": "ipython",
    "version": 3
   },
   "file_extension": ".py",
   "mimetype": "text/x-python",
   "name": "python",
   "nbconvert_exporter": "python",
   "pygments_lexer": "ipython3",
   "version": "3.7.3"
  }
 },
 "nbformat": 4,
 "nbformat_minor": 2
}
